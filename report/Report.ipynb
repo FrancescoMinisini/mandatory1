{
 "cells": [
  {
   "cell_type": "markdown",
   "metadata": {},
   "source": [
    "# 1.2.3 Exact Solution\n",
    "\n",
    "The wave equation is given by\n",
    "\n",
    "$$\n",
    "\\frac{\\partial^2 u}{\\partial t^2} = c^2 \\nabla^2 u = c^2 \\left( \\frac{\\partial^2 u}{\\partial x^2} + \\frac{\\partial^2 u}{\\partial y^2} \\right).\n",
    "$$\n",
    "\n",
    "Consider the complex function $ u(t, x, y) = e^{i (k_x x + k_y y - \\omega t)}, $ where $ i = \\sqrt{-1} $.\n",
    "\n",
    "Compute the second time derivative:\n",
    "$$\n",
    "\\frac{\\partial u}{\\partial t} = -i \\omega u, \\quad \\frac{\\partial^2 u}{\\partial t^2} = (-i \\omega)^2 u = -\\omega^2 u.\n",
    "$$\n",
    "\n",
    "Compute the spatial derivatives:\n",
    "$$\n",
    "\\frac{\\partial u}{\\partial x} = i k_x u, \\quad \\frac{\\partial^2 u}{\\partial x^2} = (i k_x)^2 u = -k_x^2 u,\n",
    "$$\n",
    "\n",
    "$$\n",
    "\\frac{\\partial u}{\\partial y} = i k_y u, \\quad \\frac{\\partial^2 u}{\\partial y^2} = -k_y^2 u.\n",
    "$$\n",
    "\n",
    "Thus,\n",
    "\n",
    "$$\n",
    "\\nabla^2 u = - (k_x^2 + k_y^2) u, \\quad c^2 \\nabla^2 u = - c^2 (k_x^2 + k_y^2) u.\n",
    "$$\n",
    "\n",
    "For $ u $ to satisfy the wave equation, $ -\\omega^2 u = - c^2 (k_x^2 + k_y^2) u, $  which holds if \n",
    "$$\n",
    "\\omega^2 = c^2 (k_x^2 + k_y^2), \\quad \\omega = c \\sqrt{k_x^2 + k_y^2}.\n",
    "$$\n",
    "\n",
    "Since the wave equation is linear with real coefficients, both the real part $ \\Re(u) = \\cos(k_x x + k_y y - \\omega t) $ and the imaginary part $ \\Im(u) = \\sin(k_x x + k_y y - \\omega t) $ are also solutions.\n",
    "\n",
    "Let's verify this symbolically using SymPy:\n"
   ]
  },
  {
   "cell_type": "code",
   "execution_count": null,
   "metadata": {},
   "outputs": [
    {
     "name": "stdout",
     "output_type": "stream",
     "text": [
      "Wave equation result: (c**2*(kx**2 + ky**2) - omega**2)*exp(I*(kx*x + ky*y - omega*t))\n",
      "Condition for solution: omega^2 = c^2 (kx^2 + ky^2)\n"
     ]
    }
   ],
   "source": [
    "import sympy as sp\n",
    "\n",
    "# Define symbols\n",
    "x, y, t, kx, ky, omega, c = sp.symbols('x y t kx ky omega c')\n",
    "u = sp.exp(sp.I * (kx * x + ky * y - omega * t))\n",
    "\n",
    "# Compute second time derivative\n",
    "d2u_dt2 = sp.diff(u, t, 2)\n",
    "\n",
    "# Compute Laplacian\n",
    "d2u_dx2 = sp.diff(u, x, 2)\n",
    "d2u_dy2 = sp.diff(u, y, 2)\n",
    "laplacian = d2u_dx2 + d2u_dy2\n",
    "c2_laplacian = c**2 * laplacian\n",
    "\n",
    "# Wave equation: d2u_dt2 - c^2 * Laplacian should be zero\n",
    "wave_eq = sp.simplify(d2u_dt2 - c2_laplacian)\n",
    "\n",
    "print(\"Wave equation result:\", wave_eq)\n",
    "print(\"Condition for solution: omega^2 = c^2 (kx^2 + ky^2)\")"
   ]
  },
  {
   "cell_type": "markdown",
   "metadata": {},
   "source": [
    "# 1.2.4 Dispersion Coefficient\n",
    "\n",
    "Assume $ k_x = k_y = k $ such that $ k_x^2 + k_y^2 = 2k^2 $. The exact dispersion relation is $ \\omega = c \\sqrt{k_x^2 + k_y^2} = c \\sqrt{2k^2} = c k \\sqrt{2}. $\n",
    "\n",
    "A discrete version of the solution is  $ u^n_{i,j} = e^{i (k h (i + j) - \\tilde{\\omega} n \\Delta t)}, $  where $ \\tilde{\\omega} $ is the numerical dispersion coefficient.\n",
    "Insert this into the discretized wave equation (1.3):\n",
    "\n",
    "$$\n",
    "\\frac{u^{n+1}_{i,j} - 2u^n_{i,j} + u^{n-1}_{i,j}}{\\Delta t^2} = c^2 \\left( \\frac{u^n_{i+1,j} - 2u^n_{i,j} + u^n_{i-1,j}}{h^2} + \\frac{u^n_{i,j+1} - 2u^n_{i,j} + u^n_{i,j-1}}{h^2} \\right).\n",
    "$$\n",
    "\n",
    "Substitute $ u^n_{i,j} = e^{i (k h (i + j) - \\tilde{\\omega} n \\Delta t)} $:\n",
    "\n",
    "- Time difference:\n",
    "  $$ u^{n+1}_{i,j} = e^{i (k h (i + j) - \\tilde{\\omega} (n+1) \\Delta t)} = e^{-i \\tilde{\\omega} \\Delta t} u^n_{i,j}, $$\n",
    "  $$ u^{n-1}_{i,j} = e^{i \\tilde{\\omega} \\Delta t} u^n_{i,j}, $$\n",
    "  $$ \\frac{u^{n+1}_{i,j} - 2u^n_{i,j} + u^{n-1}_{i,j}}{\\Delta t^2} = \\frac{e^{-i \\tilde{\\omega} \\Delta t} - 2 + e^{i \\tilde{\\omega} \\Delta t}}{\\Delta t^2} u^n_{i,j} = \\frac{2 \\cos(\\tilde{\\omega} \\Delta t) - 2}{\\Delta t^2} u^n_{i,j} = - \\frac{4 \\sin^2(\\tilde{\\omega} \\Delta t / 2)}{\\Delta t^2} u^n_{i,j}. $$\n",
    "\n",
    "- Spatial difference (x-direction):\n",
    "  $$ u^n_{i+1,j} = e^{i k h} u^n_{i,j}, \\quad u^n_{i-1,j} = e^{-i k h} u^n_{i,j}, $$\n",
    "  $$ \\frac{u^n_{i+1,j} - 2u^n_{i,j} + u^n_{i-1,j}}{h^2} = \\frac{e^{i k h} - 2 + e^{-i k h}}{h^2} u^n_{i,j} = \\frac{2 \\cos(k h) - 2}{h^2} u^n_{i,j} = - \\frac{4 \\sin^2(k h / 2)}{h^2} u^n_{i,j}. $$\n",
    "\n",
    "- Similarly for y-direction:\n",
    "  $$ \\frac{u^n_{i,j+1} - 2u^n_{i,j} + u^n_{i,j-1}}{h^2} = - \\frac{4 \\sin^2(k h / 2)}{h^2} u^n_{i,j}. $$\n",
    "\n",
    "Total spatial term:\n",
    "\n",
    "$$\n",
    "c^2 \\left( \\frac{u^n_{i+1,j} - 2u^n_{i,j} + u^n_{i-1,j}}{h^2} + \\frac{u^n_{i,j+1} - 2u^n_{i,j} + u^n_{i,j-1}}{h^2} \\right) = - \\frac{4 c^2 \\sin^2(k h / 2)}{h^2} (2) u^n_{i,j} = - \\frac{8 c^2 \\sin^2(k h / 2)}{h^2} u^n_{i,j}.\n",
    "$$\n",
    "\n",
    "Equating both sides of the discretized equation:\n",
    "\n",
    "$$\n",
    "- \\frac{4 \\sin^2(\\tilde{\\omega} \\Delta t / 2)}{\\Delta t^2} = - \\frac{8 c^2 \\sin^2(k h / 2)}{h^2}.\n",
    "$$\n",
    "\n",
    "Simplify:\n",
    "\n",
    "$$\n",
    "\\sin^2(\\tilde{\\omega} \\Delta t / 2) = 2 c^2 \\frac{\\Delta t^2}{h^2} \\sin^2(k h / 2).\n",
    "$$\n",
    "\n",
    "Since $ C = c \\Delta t / h $, $\\frac{c^2 \\Delta t^2}{h^2} = C^2,$ so $\\sin^2(\\tilde{\\omega} \\Delta t / 2) = 2 C^2 \\sin^2(k h / 2).$\n",
    "\n",
    "For $ C = 1/\\sqrt{2} $, $\\sin^2(\\tilde{\\omega} \\Delta t / 2) = \\sin^2(k h / 2)$ which implies $$ \\tilde{\\omega} \\Delta t / 2 = \\pm k h / 2 + 2m\\pi, \\quad m \\in \\mathbb{Z}, $$\n",
    "but the principal solution (smallest positive $\\tilde{\\omega}$) gives $\\tilde{\\omega} \\Delta t = k h,$ so $\\tilde{\\omega} = \\frac{k h}{\\Delta t}.$ \n",
    "Since $c \\Delta t / h = C $ and $\\omega = c k \\sqrt{2} $ we need $\\tilde{\\omega} = \\omega \\quad \\text{when} \\quad C = 1/\\sqrt{2},$ which confirms $ \\tilde{\\omega} = \\omega $ under this condition.\n",
    "\n",
    "Let's derive this numerically:\n"
   ]
  },
  {
   "cell_type": "code",
   "execution_count": null,
   "metadata": {},
   "outputs": [
    {
     "name": "stdout",
     "output_type": "stream",
     "text": [
      "Exact omega: 4.442882938158366\n",
      "Numerical tilde_omega: 4.442882938158365\n",
      "Condition C = 1/sqrt(2) gives tilde_omega = omega: True\n"
     ]
    }
   ],
   "source": [
    "import numpy as np\n",
    "\n",
    "# Parameters\n",
    "k = np.pi\n",
    "h = 0.1\n",
    "C = 1/np.sqrt(2)\n",
    "c = 1.0\n",
    "dt = C * h / c \n",
    "\n",
    "# Exact omega\n",
    "omega = c * np.sqrt(2 * k**2)\n",
    "\n",
    "# Numerical omega from dispersion relation\n",
    "tilde_omega_dt = 2 * np.arcsin(np.sqrt(2 * C**2 * np.sin(k * h / 2)**2))\n",
    "tilde_omega = tilde_omega_dt / dt\n",
    "\n",
    "print(f\"Exact omega: {omega}\")\n",
    "print(f\"Numerical tilde_omega: {tilde_omega}\")\n",
    "print(f\"Condition C = 1/sqrt(2) gives tilde_omega = omega: {np.isclose(tilde_omega, omega, atol=1e-10)}\")"
   ]
  },
  {
   "cell_type": "markdown",
   "metadata": {},
   "source": [
    "## 1.2.6 Visualization of Neumann Wave Solution\n",
    "\n",
    "The following animation illustrates the evolution of the Neumann wave solution $ u(t, x, y) = \\cos(2\\pi x) \\cos(2\\pi y) \\cos(\\omega t) $ over time, computed with $ N = 60 $, $ Nt = 80 $, $ cfl = 1/\\sqrt{2} $, and $ c = 1.0 $.\n",
    "\n",
    "![Neumann Wave Animation](neumannwave.gif)"
   ]
  }
 ],
 "metadata": {
  "kernelspec": {
   "display_name": "venv",
   "language": "python",
   "name": "python3"
  },
  "language_info": {
   "codemirror_mode": {
    "name": "ipython",
    "version": 3
   },
   "file_extension": ".py",
   "mimetype": "text/x-python",
   "name": "python",
   "nbconvert_exporter": "python",
   "pygments_lexer": "ipython3",
   "version": "3.12.5"
  }
 },
 "nbformat": 4,
 "nbformat_minor": 2
}
